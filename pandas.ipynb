{
 "cells": [
  {
   "cell_type": "markdown",
   "metadata": {
    "slideshow": {
     "slide_type": "slide"
    }
   },
   "source": [
    "<img src=\"files/pandas.png\"/>"
   ]
  },
  {
   "cell_type": "markdown",
   "metadata": {
    "slideshow": {
     "slide_type": "subslide"
    }
   },
   "source": [
    "* Librairie dédiée à l'analyse de données\n",
    "* Permet de créer des tableaux similaires aux data.frame de R c'est à dire des tableaux pouvant contenir des données de type différent\n",
    "* Dispose aussi de fonction pour le tri de données et l'application de fonctions à ces données triées\n",
    "* Avec numpy, matplotlib et scipy permet de faire une véritable analyse de données"
   ]
  },
  {
   "cell_type": "code",
   "execution_count": 1,
   "metadata": {
    "collapsed": false,
    "slideshow": {
     "slide_type": "subslide"
    }
   },
   "outputs": [],
   "source": [
    "import numpy as np\n",
    "import pandas as pd\n",
    "import matplotlib.pyplot as plt\n",
    "from scipy import stats\n",
    "%matplotlib inline"
   ]
  },
  {
   "cell_type": "markdown",
   "metadata": {
    "slideshow": {
     "slide_type": "slide"
    }
   },
   "source": [
    "## Chargement d'un fichier csv"
   ]
  },
  {
   "cell_type": "code",
   "execution_count": 15,
   "metadata": {
    "collapsed": false
   },
   "outputs": [
    {
     "data": {
      "text/plain": [
       "(1600, 27)"
      ]
     },
     "execution_count": 15,
     "metadata": {},
     "output_type": "execute_result"
    }
   ],
   "source": [
    "donnees = pd.read_csv(\"data.csv\", sep=\";\")\n",
    "donnees.shape"
   ]
  },
  {
   "cell_type": "code",
   "execution_count": 3,
   "metadata": {
    "collapsed": false
   },
   "outputs": [
    {
     "data": {
      "text/html": [
       "<div style=\"max-height:1000px;max-width:1500px;overflow:auto;\">\n",
       "<table border=\"1\" class=\"dataframe\">\n",
       "  <thead>\n",
       "    <tr style=\"text-align: right;\">\n",
       "      <th></th>\n",
       "      <th>session</th>\n",
       "      <th>joueur</th>\n",
       "      <th>BP_periode</th>\n",
       "      <th>BP_traitement</th>\n",
       "      <th>BP_groupe</th>\n",
       "      <th>BP_dotation</th>\n",
       "      <th>BP_contribution</th>\n",
       "      <th>BP_contribution_groupe</th>\n",
       "      <th>BP_decision_time</th>\n",
       "      <th>BP_gain_periode</th>\n",
       "      <th>BP_gain_cumule</th>\n",
       "      <th>naissance</th>\n",
       "      <th>genre</th>\n",
       "      <th>nationalite</th>\n",
       "      <th>couple</th>\n",
       "      <th>etudiant</th>\n",
       "      <th>etudiant_discipline</th>\n",
       "      <th>etudiant_niveau</th>\n",
       "      <th>experiences</th>\n",
       "      <th>fratrie_nombre</th>\n",
       "      <th></th>\n",
       "    </tr>\n",
       "  </thead>\n",
       "  <tbody>\n",
       "    <tr>\n",
       "      <th>0</th>\n",
       "      <td> 201501201125</td>\n",
       "      <td> 201501201125_j_34</td>\n",
       "      <td> 1</td>\n",
       "      <td> 0</td>\n",
       "      <td> 201501201125_g_0</td>\n",
       "      <td> 20</td>\n",
       "      <td> 16</td>\n",
       "      <td> 52</td>\n",
       "      <td> 0</td>\n",
       "      <td> 24.8</td>\n",
       "      <td>  24.8</td>\n",
       "      <td> 1968</td>\n",
       "      <td> 0</td>\n",
       "      <td> 77</td>\n",
       "      <td> 0</td>\n",
       "      <td> 1</td>\n",
       "      <td> 6</td>\n",
       "      <td> 3</td>\n",
       "      <td> 0</td>\n",
       "      <td> 8</td>\n",
       "      <td>...</td>\n",
       "    </tr>\n",
       "    <tr>\n",
       "      <th>1</th>\n",
       "      <td> 201501201125</td>\n",
       "      <td> 201501201125_j_34</td>\n",
       "      <td> 2</td>\n",
       "      <td> 0</td>\n",
       "      <td> 201501201125_g_0</td>\n",
       "      <td> 20</td>\n",
       "      <td>  2</td>\n",
       "      <td> 28</td>\n",
       "      <td> 0</td>\n",
       "      <td> 29.2</td>\n",
       "      <td>  54.0</td>\n",
       "      <td> 1968</td>\n",
       "      <td> 0</td>\n",
       "      <td> 77</td>\n",
       "      <td> 0</td>\n",
       "      <td> 1</td>\n",
       "      <td> 6</td>\n",
       "      <td> 3</td>\n",
       "      <td> 0</td>\n",
       "      <td> 8</td>\n",
       "      <td>...</td>\n",
       "    </tr>\n",
       "    <tr>\n",
       "      <th>2</th>\n",
       "      <td> 201501201125</td>\n",
       "      <td> 201501201125_j_34</td>\n",
       "      <td> 3</td>\n",
       "      <td> 0</td>\n",
       "      <td> 201501201125_g_0</td>\n",
       "      <td> 20</td>\n",
       "      <td> 12</td>\n",
       "      <td> 41</td>\n",
       "      <td> 0</td>\n",
       "      <td> 24.4</td>\n",
       "      <td>  78.4</td>\n",
       "      <td> 1968</td>\n",
       "      <td> 0</td>\n",
       "      <td> 77</td>\n",
       "      <td> 0</td>\n",
       "      <td> 1</td>\n",
       "      <td> 6</td>\n",
       "      <td> 3</td>\n",
       "      <td> 0</td>\n",
       "      <td> 8</td>\n",
       "      <td>...</td>\n",
       "    </tr>\n",
       "    <tr>\n",
       "      <th>3</th>\n",
       "      <td> 201501201125</td>\n",
       "      <td> 201501201125_j_34</td>\n",
       "      <td> 4</td>\n",
       "      <td> 0</td>\n",
       "      <td> 201501201125_g_0</td>\n",
       "      <td> 20</td>\n",
       "      <td>  0</td>\n",
       "      <td> 21</td>\n",
       "      <td> 0</td>\n",
       "      <td> 28.4</td>\n",
       "      <td> 106.8</td>\n",
       "      <td> 1968</td>\n",
       "      <td> 0</td>\n",
       "      <td> 77</td>\n",
       "      <td> 0</td>\n",
       "      <td> 1</td>\n",
       "      <td> 6</td>\n",
       "      <td> 3</td>\n",
       "      <td> 0</td>\n",
       "      <td> 8</td>\n",
       "      <td>...</td>\n",
       "    </tr>\n",
       "    <tr>\n",
       "      <th>4</th>\n",
       "      <td> 201501201125</td>\n",
       "      <td> 201501201125_j_34</td>\n",
       "      <td> 5</td>\n",
       "      <td> 0</td>\n",
       "      <td> 201501201125_g_0</td>\n",
       "      <td> 20</td>\n",
       "      <td> 15</td>\n",
       "      <td> 43</td>\n",
       "      <td> 0</td>\n",
       "      <td> 22.2</td>\n",
       "      <td> 129.0</td>\n",
       "      <td> 1968</td>\n",
       "      <td> 0</td>\n",
       "      <td> 77</td>\n",
       "      <td> 0</td>\n",
       "      <td> 1</td>\n",
       "      <td> 6</td>\n",
       "      <td> 3</td>\n",
       "      <td> 0</td>\n",
       "      <td> 8</td>\n",
       "      <td>...</td>\n",
       "    </tr>\n",
       "  </tbody>\n",
       "</table>\n",
       "<p>5 rows × 27 columns</p>\n",
       "</div>"
      ],
      "text/plain": [
       "        session             joueur  BP_periode  BP_traitement  \\\n",
       "0  201501201125  201501201125_j_34           1              0   \n",
       "1  201501201125  201501201125_j_34           2              0   \n",
       "2  201501201125  201501201125_j_34           3              0   \n",
       "3  201501201125  201501201125_j_34           4              0   \n",
       "4  201501201125  201501201125_j_34           5              0   \n",
       "\n",
       "          BP_groupe  BP_dotation  BP_contribution  BP_contribution_groupe  \\\n",
       "0  201501201125_g_0           20               16                      52   \n",
       "1  201501201125_g_0           20                2                      28   \n",
       "2  201501201125_g_0           20               12                      41   \n",
       "3  201501201125_g_0           20                0                      21   \n",
       "4  201501201125_g_0           20               15                      43   \n",
       "\n",
       "   BP_decision_time  BP_gain_periode  BP_gain_cumule  naissance  genre  \\\n",
       "0                 0             24.8            24.8       1968      0   \n",
       "1                 0             29.2            54.0       1968      0   \n",
       "2                 0             24.4            78.4       1968      0   \n",
       "3                 0             28.4           106.8       1968      0   \n",
       "4                 0             22.2           129.0       1968      0   \n",
       "\n",
       "   nationalite  couple  etudiant etudiant_discipline etudiant_niveau  \\\n",
       "0           77       0         1                   6               3   \n",
       "1           77       0         1                   6               3   \n",
       "2           77       0         1                   6               3   \n",
       "3           77       0         1                   6               3   \n",
       "4           77       0         1                   6               3   \n",
       "\n",
       "   experiences  fratrie_nombre      \n",
       "0            0               8 ...  \n",
       "1            0               8 ...  \n",
       "2            0               8 ...  \n",
       "3            0               8 ...  \n",
       "4            0               8 ...  \n",
       "\n",
       "[5 rows x 27 columns]"
      ]
     },
     "execution_count": 3,
     "metadata": {},
     "output_type": "execute_result"
    }
   ],
   "source": [
    "donnees.head()"
   ]
  },
  {
   "cell_type": "markdown",
   "metadata": {
    "slideshow": {
     "slide_type": "slide"
    }
   },
   "source": [
    "## groupby"
   ]
  },
  {
   "cell_type": "markdown",
   "metadata": {},
   "source": [
    "Permet de grouper les données par rapport à une ou plusieurs variables"
   ]
  },
  {
   "cell_type": "markdown",
   "metadata": {},
   "source": [
    "### Contributions moyennes par traitement"
   ]
  },
  {
   "cell_type": "code",
   "execution_count": 9,
   "metadata": {
    "collapsed": false
   },
   "outputs": [
    {
     "data": {
      "text/plain": [
       "BP_traitement\n",
       "0                 9.82500\n",
       "1                14.90625\n",
       "Name: BP_contribution, dtype: float64"
      ]
     },
     "execution_count": 9,
     "metadata": {},
     "output_type": "execute_result"
    }
   ],
   "source": [
    "contrib_treat = donnees.groupby(donnees.BP_traitement).mean()\n",
    "contrib_treat.BP_contribution"
   ]
  },
  {
   "cell_type": "markdown",
   "metadata": {},
   "source": [
    "### Contributions moyennes par groupe"
   ]
  },
  {
   "cell_type": "markdown",
   "metadata": {},
   "source": [
    "On groupe les données par traitement et par groupe, et on calcule la moyenne"
   ]
  },
  {
   "cell_type": "code",
   "execution_count": 13,
   "metadata": {
    "collapsed": true
   },
   "outputs": [],
   "source": [
    "contrib_treat_groups = donnees.groupby([donnees.BP_traitement, donnees.BP_groupe]).mean()"
   ]
  },
  {
   "cell_type": "code",
   "execution_count": 14,
   "metadata": {
    "collapsed": false
   },
   "outputs": [
    {
     "data": {
      "text/html": [
       "<div style=\"max-height:1000px;max-width:1500px;overflow:auto;\">\n",
       "<table border=\"1\" class=\"dataframe\">\n",
       "  <thead>\n",
       "    <tr style=\"text-align: right;\">\n",
       "      <th></th>\n",
       "      <th></th>\n",
       "      <th>BP_contribution</th>\n",
       "    </tr>\n",
       "    <tr>\n",
       "      <th>BP_traitement</th>\n",
       "      <th>BP_groupe</th>\n",
       "      <th></th>\n",
       "    </tr>\n",
       "  </thead>\n",
       "  <tbody>\n",
       "    <tr>\n",
       "      <th rowspan=\"10\" valign=\"top\">0</th>\n",
       "      <th>201501201125_g_0</th>\n",
       "      <td> 10.1000</td>\n",
       "    </tr>\n",
       "    <tr>\n",
       "      <th>201501201125_g_1</th>\n",
       "      <td> 10.1750</td>\n",
       "    </tr>\n",
       "    <tr>\n",
       "      <th>201501201125_g_2</th>\n",
       "      <td>  9.1000</td>\n",
       "    </tr>\n",
       "    <tr>\n",
       "      <th>201501201125_g_3</th>\n",
       "      <td> 10.9125</td>\n",
       "    </tr>\n",
       "    <tr>\n",
       "      <th>201501201125_g_4</th>\n",
       "      <td> 11.2000</td>\n",
       "    </tr>\n",
       "    <tr>\n",
       "      <th>201501201125_g_5</th>\n",
       "      <td> 10.4500</td>\n",
       "    </tr>\n",
       "    <tr>\n",
       "      <th>201501201125_g_6</th>\n",
       "      <td>  9.5625</td>\n",
       "    </tr>\n",
       "    <tr>\n",
       "      <th>201501201125_g_7</th>\n",
       "      <td>  8.6500</td>\n",
       "    </tr>\n",
       "    <tr>\n",
       "      <th>201501201125_g_8</th>\n",
       "      <td>  9.3625</td>\n",
       "    </tr>\n",
       "    <tr>\n",
       "      <th>201501201125_g_9</th>\n",
       "      <td>  8.7375</td>\n",
       "    </tr>\n",
       "    <tr>\n",
       "      <th rowspan=\"10\" valign=\"top\">1</th>\n",
       "      <th>201501201127_g_0</th>\n",
       "      <td> 15.1000</td>\n",
       "    </tr>\n",
       "    <tr>\n",
       "      <th>201501201127_g_1</th>\n",
       "      <td> 14.4125</td>\n",
       "    </tr>\n",
       "    <tr>\n",
       "      <th>201501201127_g_2</th>\n",
       "      <td> 14.9125</td>\n",
       "    </tr>\n",
       "    <tr>\n",
       "      <th>201501201127_g_3</th>\n",
       "      <td> 14.9500</td>\n",
       "    </tr>\n",
       "    <tr>\n",
       "      <th>201501201127_g_4</th>\n",
       "      <td> 15.2250</td>\n",
       "    </tr>\n",
       "    <tr>\n",
       "      <th>201501201127_g_5</th>\n",
       "      <td> 15.0000</td>\n",
       "    </tr>\n",
       "    <tr>\n",
       "      <th>201501201127_g_6</th>\n",
       "      <td> 14.9500</td>\n",
       "    </tr>\n",
       "    <tr>\n",
       "      <th>201501201127_g_7</th>\n",
       "      <td> 14.3625</td>\n",
       "    </tr>\n",
       "    <tr>\n",
       "      <th>201501201127_g_8</th>\n",
       "      <td> 14.8250</td>\n",
       "    </tr>\n",
       "    <tr>\n",
       "      <th>201501201127_g_9</th>\n",
       "      <td> 15.3250</td>\n",
       "    </tr>\n",
       "  </tbody>\n",
       "</table>\n",
       "<p>20 rows × 1 columns</p>\n",
       "</div>"
      ],
      "text/plain": [
       "                                BP_contribution\n",
       "BP_traitement BP_groupe                        \n",
       "0             201501201125_g_0          10.1000\n",
       "              201501201125_g_1          10.1750\n",
       "              201501201125_g_2           9.1000\n",
       "              201501201125_g_3          10.9125\n",
       "              201501201125_g_4          11.2000\n",
       "              201501201125_g_5          10.4500\n",
       "              201501201125_g_6           9.5625\n",
       "              201501201125_g_7           8.6500\n",
       "              201501201125_g_8           9.3625\n",
       "              201501201125_g_9           8.7375\n",
       "1             201501201127_g_0          15.1000\n",
       "              201501201127_g_1          14.4125\n",
       "              201501201127_g_2          14.9125\n",
       "              201501201127_g_3          14.9500\n",
       "              201501201127_g_4          15.2250\n",
       "              201501201127_g_5          15.0000\n",
       "              201501201127_g_6          14.9500\n",
       "              201501201127_g_7          14.3625\n",
       "              201501201127_g_8          14.8250\n",
       "              201501201127_g_9          15.3250\n",
       "\n",
       "[20 rows x 1 columns]"
      ]
     },
     "execution_count": 14,
     "metadata": {},
     "output_type": "execute_result"
    }
   ],
   "source": [
    "# Affichage de la contribution moyenne par traitement et par groupe\n",
    "pd.DataFrame(contrib_treat_groups.BP_contribution)"
   ]
  },
  {
   "cell_type": "markdown",
   "metadata": {
    "slideshow": {
     "slide_type": "subslide"
    }
   },
   "source": [
    "### Boxplot des contributions moyennes par traitement"
   ]
  },
  {
   "cell_type": "code",
   "execution_count": 53,
   "metadata": {
    "collapsed": false
   },
   "outputs": [
    {
     "data": {
      "text/plain": [
       "<matplotlib.text.Text at 0x7f5e0e36a8d0>"
      ]
     },
     "execution_count": 53,
     "metadata": {},
     "output_type": "execute_result"
    },
    {
     "data": {
      "image/png": "[encoded data removed]",
      "text/plain": [
       "<matplotlib.figure.Figure at 0x7f5e0e4e0310>"
      ]
     },
     "metadata": {},
     "output_type": "display_data"
    }
   ],
   "source": [
    "fig, graph = plt.subplots(figsize=(8, 6))\n",
    "graph.boxplot([contrib_treat_groups.loc[0].BP_contribution, contrib_treat_groups.loc[1].BP_contribution])\n",
    "graph.set_xticklabels([\"Trait 0\", \"Trait 1\"])\n",
    "graph.set_title(\"Boxplot des contributions moyennes par groupe\", fontsize=14)"
   ]
  },
  {
   "cell_type": "markdown",
   "metadata": {},
   "source": [
    "#### Amélioration du graphique"
   ]
  },
  {
   "cell_type": "code",
   "execution_count": 52,
   "metadata": {
    "collapsed": false
   },
   "outputs": [
    {
     "data": {
      "text/plain": [
       "<matplotlib.text.Text at 0x7f5e0e3f1ad0>"
      ]
     },
     "execution_count": 52,
     "metadata": {},
     "output_type": "execute_result"
    },
    {
     "data": {
      "image/png": "[encoded data removed]",
      "text/plain": [
       "<matplotlib.figure.Figure at 0x7f5e0e4f8090>"
      ]
     },
     "metadata": {},
     "output_type": "display_data"
    }
   ],
   "source": [
    "fig, graph = plt.subplots(figsize=(8, 6))\n",
    "graph.boxplot([contrib_treat_groups.loc[0].BP_contribution, contrib_treat_groups.loc[1].BP_contribution])\n",
    "graph.set_xticklabels([\"Trait 0\", \"Trait 1\"])\n",
    "graph.set_title(\"Boxplot des contributions moyennes par groupe\", fontsize=14)\n",
    "graph.scatter([1, 2], contrib_treat.BP_contribution, c=\"black\", marker=\"x\")\n",
    "graph.text(1, contrib_treat.loc[0].BP_contribution + 0.5, contrib_treat.loc[0].BP_contribution, \n",
    "           horizontalalignment='center') \n",
    "graph.text(2, contrib_treat.loc[1].BP_contribution + 0.5, contrib_treat.loc[1].BP_contribution, \n",
    "           horizontalalignment='center')"
   ]
  },
  {
   "cell_type": "markdown",
   "metadata": {
    "slideshow": {
     "slide_type": "subslide"
    }
   },
   "source": [
    "### Evolution de la contribution moyenne par traitement"
   ]
  },
  {
   "cell_type": "code",
   "execution_count": 29,
   "metadata": {
    "collapsed": false
   },
   "outputs": [
    {
     "data": {
      "text/html": [
       "<div style=\"max-height:1000px;max-width:1500px;overflow:auto;\">\n",
       "<table border=\"1\" class=\"dataframe\">\n",
       "  <thead>\n",
       "    <tr style=\"text-align: right;\">\n",
       "      <th></th>\n",
       "      <th></th>\n",
       "      <th>BP_contribution</th>\n",
       "    </tr>\n",
       "    <tr>\n",
       "      <th>BP_traitement</th>\n",
       "      <th>BP_periode</th>\n",
       "      <th></th>\n",
       "    </tr>\n",
       "  </thead>\n",
       "  <tbody>\n",
       "    <tr>\n",
       "      <th rowspan=\"20\" valign=\"top\">0</th>\n",
       "      <th>1 </th>\n",
       "      <td> 11.675</td>\n",
       "    </tr>\n",
       "    <tr>\n",
       "      <th>2 </th>\n",
       "      <td>  8.525</td>\n",
       "    </tr>\n",
       "    <tr>\n",
       "      <th>3 </th>\n",
       "      <td> 10.350</td>\n",
       "    </tr>\n",
       "    <tr>\n",
       "      <th>4 </th>\n",
       "      <td> 11.050</td>\n",
       "    </tr>\n",
       "    <tr>\n",
       "      <th>5 </th>\n",
       "      <td> 10.925</td>\n",
       "    </tr>\n",
       "    <tr>\n",
       "      <th>6 </th>\n",
       "      <td> 10.125</td>\n",
       "    </tr>\n",
       "    <tr>\n",
       "      <th>7 </th>\n",
       "      <td>  9.425</td>\n",
       "    </tr>\n",
       "    <tr>\n",
       "      <th>8 </th>\n",
       "      <td>  8.950</td>\n",
       "    </tr>\n",
       "    <tr>\n",
       "      <th>9 </th>\n",
       "      <td>  9.800</td>\n",
       "    </tr>\n",
       "    <tr>\n",
       "      <th>10</th>\n",
       "      <td>  9.750</td>\n",
       "    </tr>\n",
       "    <tr>\n",
       "      <th>11</th>\n",
       "      <td>  9.900</td>\n",
       "    </tr>\n",
       "    <tr>\n",
       "      <th>12</th>\n",
       "      <td> 11.375</td>\n",
       "    </tr>\n",
       "    <tr>\n",
       "      <th>13</th>\n",
       "      <td>  9.075</td>\n",
       "    </tr>\n",
       "    <tr>\n",
       "      <th>14</th>\n",
       "      <td>  8.900</td>\n",
       "    </tr>\n",
       "    <tr>\n",
       "      <th>15</th>\n",
       "      <td>  9.100</td>\n",
       "    </tr>\n",
       "    <tr>\n",
       "      <th>16</th>\n",
       "      <td>  8.925</td>\n",
       "    </tr>\n",
       "    <tr>\n",
       "      <th>17</th>\n",
       "      <td>  9.700</td>\n",
       "    </tr>\n",
       "    <tr>\n",
       "      <th>18</th>\n",
       "      <td>  9.375</td>\n",
       "    </tr>\n",
       "    <tr>\n",
       "      <th>19</th>\n",
       "      <td> 10.475</td>\n",
       "    </tr>\n",
       "    <tr>\n",
       "      <th>20</th>\n",
       "      <td>  9.100</td>\n",
       "    </tr>\n",
       "    <tr>\n",
       "      <th rowspan=\"20\" valign=\"top\">1</th>\n",
       "      <th>1 </th>\n",
       "      <td> 14.700</td>\n",
       "    </tr>\n",
       "    <tr>\n",
       "      <th>2 </th>\n",
       "      <td> 15.050</td>\n",
       "    </tr>\n",
       "    <tr>\n",
       "      <th>3 </th>\n",
       "      <td> 14.725</td>\n",
       "    </tr>\n",
       "    <tr>\n",
       "      <th>4 </th>\n",
       "      <td> 14.100</td>\n",
       "    </tr>\n",
       "    <tr>\n",
       "      <th>5 </th>\n",
       "      <td> 14.975</td>\n",
       "    </tr>\n",
       "    <tr>\n",
       "      <th>6 </th>\n",
       "      <td> 14.825</td>\n",
       "    </tr>\n",
       "    <tr>\n",
       "      <th>7 </th>\n",
       "      <td> 15.025</td>\n",
       "    </tr>\n",
       "    <tr>\n",
       "      <th>8 </th>\n",
       "      <td> 14.200</td>\n",
       "    </tr>\n",
       "    <tr>\n",
       "      <th>9 </th>\n",
       "      <td> 14.450</td>\n",
       "    </tr>\n",
       "    <tr>\n",
       "      <th>10</th>\n",
       "      <td> 14.250</td>\n",
       "    </tr>\n",
       "    <tr>\n",
       "      <th>11</th>\n",
       "      <td> 14.575</td>\n",
       "    </tr>\n",
       "    <tr>\n",
       "      <th>12</th>\n",
       "      <td> 14.825</td>\n",
       "    </tr>\n",
       "    <tr>\n",
       "      <th>13</th>\n",
       "      <td> 14.975</td>\n",
       "    </tr>\n",
       "    <tr>\n",
       "      <th>14</th>\n",
       "      <td> 15.450</td>\n",
       "    </tr>\n",
       "    <tr>\n",
       "      <th>15</th>\n",
       "      <td> 14.600</td>\n",
       "    </tr>\n",
       "    <tr>\n",
       "      <th>16</th>\n",
       "      <td> 14.950</td>\n",
       "    </tr>\n",
       "    <tr>\n",
       "      <th>17</th>\n",
       "      <td> 15.300</td>\n",
       "    </tr>\n",
       "    <tr>\n",
       "      <th>18</th>\n",
       "      <td> 15.500</td>\n",
       "    </tr>\n",
       "    <tr>\n",
       "      <th>19</th>\n",
       "      <td> 15.650</td>\n",
       "    </tr>\n",
       "    <tr>\n",
       "      <th>20</th>\n",
       "      <td> 16.000</td>\n",
       "    </tr>\n",
       "  </tbody>\n",
       "</table>\n",
       "<p>40 rows × 1 columns</p>\n",
       "</div>"
      ],
      "text/plain": [
       "                          BP_contribution\n",
       "BP_traitement BP_periode                 \n",
       "0             1                    11.675\n",
       "              2                     8.525\n",
       "              3                    10.350\n",
       "              4                    11.050\n",
       "              5                    10.925\n",
       "              6                    10.125\n",
       "              7                     9.425\n",
       "              8                     8.950\n",
       "              9                     9.800\n",
       "              10                    9.750\n",
       "              11                    9.900\n",
       "              12                   11.375\n",
       "              13                    9.075\n",
       "              14                    8.900\n",
       "              15                    9.100\n",
       "              16                    8.925\n",
       "              17                    9.700\n",
       "              18                    9.375\n",
       "              19                   10.475\n",
       "              20                    9.100\n",
       "1             1                    14.700\n",
       "              2                    15.050\n",
       "              3                    14.725\n",
       "              4                    14.100\n",
       "              5                    14.975\n",
       "              6                    14.825\n",
       "              7                    15.025\n",
       "              8                    14.200\n",
       "              9                    14.450\n",
       "              10                   14.250\n",
       "              11                   14.575\n",
       "              12                   14.825\n",
       "              13                   14.975\n",
       "              14                   15.450\n",
       "              15                   14.600\n",
       "              16                   14.950\n",
       "              17                   15.300\n",
       "              18                   15.500\n",
       "              19                   15.650\n",
       "              20                   16.000\n",
       "\n",
       "[40 rows x 1 columns]"
      ]
     },
     "execution_count": 29,
     "metadata": {},
     "output_type": "execute_result"
    }
   ],
   "source": [
    "contrib_treat_evol = donnees.groupby([donnees.BP_traitement, donnees.BP_periode]).mean()\n",
    "pd.DataFrame(contrib_treat_evol.BP_contribution)"
   ]
  },
  {
   "cell_type": "code",
   "execution_count": 44,
   "metadata": {
    "collapsed": false
   },
   "outputs": [
    {
     "data": {
      "text/plain": [
       "<matplotlib.legend.Legend at 0x7f5e0e4ee2d0>"
      ]
     },
     "execution_count": 44,
     "metadata": {},
     "output_type": "execute_result"
    },
    {
     "data": {
      "image/png": "[encoded data removed]",
      "text/plain": [
       "<matplotlib.figure.Figure at 0x7f5e0e5d4590>"
      ]
     },
     "metadata": {},
     "output_type": "display_data"
    }
   ],
   "source": [
    "fig, graph = plt.subplots(figsize=(10, 6))\n",
    "graph.plot(range(1, 21), contrib_treat_evol.loc[0].BP_contribution, label=\"T0\", color=\"blue\")\n",
    "graph.plot(range(1, 21), contrib_treat_evol.loc[1].BP_contribution, label=\"T1\", color=\"brown\")\n",
    "graph.set_xlim(0, 21)\n",
    "graph.set_xlabel(\"Periods\")\n",
    "graph.set_ylim(6, 17)\n",
    "graph.set_ylabel(\"Av. Contribution\")\n",
    "graph.set_title(\"Evolution de la contribution moyenne\", fontsize=14, fontweight=\"bold\")\n",
    "graph.legend(loc=8, ncol=2)"
   ]
  },
  {
   "cell_type": "markdown",
   "metadata": {
    "slideshow": {
     "slide_type": "slide"
    }
   },
   "source": [
    "### Test statistique"
   ]
  },
  {
   "cell_type": "markdown",
   "metadata": {},
   "source": [
    "**Test de Mann Whitney (two-sided) sur les contributions moyennes par groupe**   \n",
    "$H_0$: les contributions moyennes ne sont pas significativement différentes entre les deux traitements"
   ]
  },
  {
   "cell_type": "code",
   "execution_count": 49,
   "metadata": {
    "collapsed": false
   },
   "outputs": [],
   "source": [
    "mw = stats.mannwhitneyu(contrib_treat_groups.loc[0].BP_contribution, contrib_treat_groups.loc[1].BP_contribution)"
   ]
  },
  {
   "cell_type": "code",
   "execution_count": 51,
   "metadata": {
    "collapsed": false
   },
   "outputs": [
    {
     "name": "stdout",
     "output_type": "stream",
     "text": [
      "p-value=0.000\n",
      "H0 est rejetée, il y a un effet de traitement significatif\n"
     ]
    }
   ],
   "source": [
    "cl = \"H0 est rejetée, il y a un effet de traitement significatif\" if mw[1] < 0.05 else \\\n",
    "     \"H0 ne peut être rejetée, il n'y a pas d'effet de traitement significatif\"\n",
    "print(\"p-value={:0.3f}\\n{}\".format(mw[1], cl))"
   ]
  },
  {
   "cell_type": "markdown",
   "metadata": {
    "slideshow": {
     "slide_type": "slide"
    }
   },
   "source": [
    "# Sources"
   ]
  },
  {
   "cell_type": "markdown",
   "metadata": {},
   "source": [
    "* http://pandas.pydata.org/pandas-docs/dev/10min.html#min\n",
    "* http://pandas.pydata.org/pandas-docs/stable/groupby.html\n",
    "* http://pandas.pydata.org/pandas-docs/stable/dsintro.html"
   ]
  }
 ],
 "metadata": {
  "kernelspec": {
   "display_name": "Python 2",
   "language": "python",
   "name": "python2"
  },
  "language_info": {
   "codemirror_mode": {
    "name": "ipython",
    "version": 2
   },
   "file_extension": ".py",
   "mimetype": "text/x-python",
   "name": "python",
   "nbconvert_exporter": "python",
   "pygments_lexer": "ipython2",
   "version": "2.7.6"
  }
 },
 "nbformat": 4,
 "nbformat_minor": 0
}
